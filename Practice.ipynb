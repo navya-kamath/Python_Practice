{
 "cells": [
  {
   "cell_type": "markdown",
   "id": "c0c0baf9-5149-4473-8573-f1d7af45805e",
   "metadata": {},
   "source": [
    "##### https://www/geeksforgeeks.org/python-programming-examples/"
   ]
  },
  {
   "cell_type": "markdown",
   "id": "472129a2-212c-448f-b339-ce94ed5424de",
   "metadata": {},
   "source": [
    "### 1. Add two numbers:"
   ]
  },
  {
   "cell_type": "markdown",
   "id": "c07fabb6-f238-4233-abb4-e458a20f8e3f",
   "metadata": {},
   "source": [
    "##### Method 1: Using '+' operator"
   ]
  },
  {
   "cell_type": "code",
   "execution_count": 3,
   "id": "4f2a67f2-82e1-4715-b204-fff54ad61f38",
   "metadata": {},
   "outputs": [
    {
     "name": "stdout",
     "output_type": "stream",
     "text": [
      "25\n"
     ]
    }
   ],
   "source": [
    "a = 10\n",
    "b = 15\n",
    "sum = a + b\n",
    "print(sum)"
   ]
  },
  {
   "cell_type": "markdown",
   "id": "4b617e75-38f5-4fa5-95af-c5e6d75f08c1",
   "metadata": {},
   "source": [
    "##### Method 2: Defining a function that adds 2 number"
   ]
  },
  {
   "cell_type": "code",
   "execution_count": 7,
   "id": "8a802cf4-23eb-44ea-b112-fa0b805964b0",
   "metadata": {},
   "outputs": [
    {
     "data": {
      "text/plain": [
       "30"
      ]
     },
     "execution_count": 7,
     "metadata": {},
     "output_type": "execute_result"
    }
   ],
   "source": [
    "def add(a,b):\n",
    "    return a + b\n",
    "\n",
    "add(10,20)"
   ]
  },
  {
   "cell_type": "markdown",
   "id": "b7c69906-92a8-4e9a-bd9c-558f39d43704",
   "metadata": {},
   "source": [
    "##### Method 3: Using operator.add method"
   ]
  },
  {
   "cell_type": "code",
   "execution_count": 15,
   "id": "3573a950-4f6f-4dc9-a9af-27b7cea6c846",
   "metadata": {},
   "outputs": [
    {
     "name": "stdout",
     "output_type": "stream",
     "text": [
      "30\n"
     ]
    }
   ],
   "source": [
    "a = 10\n",
    "b = 20\n",
    "\n",
    "import operator\n",
    "sum = operator.add(a,b)\n",
    "print(sum)"
   ]
  },
  {
   "cell_type": "markdown",
   "id": "ffdbbcb2-f078-4975-91f2-fe26b8e5f678",
   "metadata": {},
   "source": [
    "##### Method 4: Using lambda function"
   ]
  },
  {
   "cell_type": "code",
   "execution_count": 19,
   "id": "06582cce-1e28-4f0b-9da6-9525358afccd",
   "metadata": {},
   "outputs": [
    {
     "data": {
      "text/plain": [
       "50"
      ]
     },
     "execution_count": 19,
     "metadata": {},
     "output_type": "execute_result"
    }
   ],
   "source": [
    "add_numbers = lambda a,b: a + b\n",
    "a = 20\n",
    "b = 30\n",
    "add_numbers(20,30)"
   ]
  },
  {
   "cell_type": "markdown",
   "id": "1236d9fd-0d59-421f-8db5-49dd4095ad0c",
   "metadata": {},
   "source": [
    "##### Method 5: Using Recursive function"
   ]
  },
  {
   "cell_type": "code",
   "execution_count": 38,
   "id": "b48ba859-913a-42b1-8725-cd3f1aacf5b4",
   "metadata": {},
   "outputs": [
    {
     "data": {
      "text/plain": [
       "100"
      ]
     },
     "execution_count": 38,
     "metadata": {},
     "output_type": "execute_result"
    }
   ],
   "source": [
    "def add(a,b):\n",
    "    if b == 0:\n",
    "        return a\n",
    "    else:\n",
    "        return add(a+1,b-1)\n",
    "\n",
    "add(80,20)"
   ]
  },
  {
   "cell_type": "markdown",
   "id": "444e824d-fe96-40bf-8741-44bd7eefa608",
   "metadata": {},
   "source": [
    "##### Method 6: Using Class"
   ]
  },
  {
   "cell_type": "code",
   "execution_count": 46,
   "id": "df83e6a8-08be-4951-a342-b5e26e0416f0",
   "metadata": {},
   "outputs": [
    {
     "name": "stdout",
     "output_type": "stream",
     "text": [
      "30\n"
     ]
    }
   ],
   "source": [
    "class addition:\n",
    "    def add(self,a,b):\n",
    "        return a+b\n",
    "\n",
    "add_num = addition()\n",
    "result = add_num.add(10,20)\n",
    "print(result)"
   ]
  },
  {
   "cell_type": "markdown",
   "id": "ba2dcb7d-d2ae-4d21-a16c-3c95cdc020aa",
   "metadata": {},
   "source": [
    "##### Method 7: Add 2 lists"
   ]
  },
  {
   "cell_type": "code",
   "execution_count": 51,
   "id": "859183ef-1298-4f48-a70e-a13e35ac0678",
   "metadata": {},
   "outputs": [
    {
     "name": "stdout",
     "output_type": "stream",
     "text": [
      "[1, 2, 3, 4, 5, 6]\n"
     ]
    }
   ],
   "source": [
    "list1 = [1,2,3]\n",
    "list2 = [4,5,6]\n",
    "\n",
    "print(list1+list2)"
   ]
  },
  {
   "cell_type": "markdown",
   "id": "b2b8a4a6-5702-45f5-9459-9bd3060e8a49",
   "metadata": {},
   "source": [
    "##### Key points:\n",
    "1. Can add integer and floating point numbers together.\n",
    "2. Bitwise Operator(| for bitwise OR) it will give 5|3 = 7\n",
    "3. Add numbers from different data types."
   ]
  },
  {
   "cell_type": "code",
   "execution_count": null,
   "id": "4dc82ed1-e3a6-45d9-a7a9-3f2a1d378326",
   "metadata": {},
   "outputs": [],
   "source": []
  },
  {
   "cell_type": "markdown",
   "id": "173108d8-1d8b-479a-af4c-a9d5f6081ec3",
   "metadata": {},
   "source": [
    "### 2. Maximum of two numbers:"
   ]
  },
  {
   "cell_type": "markdown",
   "id": "17f3e8c5-491c-4d7d-be32-25aa45267d8c",
   "metadata": {},
   "source": [
    "##### Method 1: Using max() function"
   ]
  },
  {
   "cell_type": "code",
   "execution_count": 56,
   "id": "9a1b7104-4d10-4fd6-a748-a0a66508ea90",
   "metadata": {},
   "outputs": [
    {
     "name": "stdout",
     "output_type": "stream",
     "text": [
      "20\n"
     ]
    }
   ],
   "source": [
    "a = 10\n",
    "b = 20\n",
    "print(max(a,b))"
   ]
  },
  {
   "cell_type": "markdown",
   "id": "d112a2fb-5e54-4586-88af-47191a481050",
   "metadata": {},
   "source": [
    "##### Method 2: Using Conditional Statement"
   ]
  },
  {
   "cell_type": "code",
   "execution_count": 64,
   "id": "e5618ef9-fc14-4a09-9234-afdde309a2c8",
   "metadata": {},
   "outputs": [
    {
     "name": "stdout",
     "output_type": "stream",
     "text": [
      "Enter a number:  10\n",
      "Enter another number:  20\n"
     ]
    },
    {
     "name": "stdout",
     "output_type": "stream",
     "text": [
      "20.0 is the maximum number\n"
     ]
    }
   ],
   "source": [
    "a = float(input('Enter a number: '))\n",
    "b = float(input('Enter another number: '))\n",
    "\n",
    "if a>b:\n",
    "    print(f'{a} is the maximum number')\n",
    "else:\n",
    "    print(f'{b} is the maximum number')"
   ]
  },
  {
   "cell_type": "markdown",
   "id": "f3aaac23-1521-4701-921f-2bc089f5e365",
   "metadata": {},
   "source": [
    "##### Method 3: Using Ternary Operator"
   ]
  },
  {
   "cell_type": "code",
   "execution_count": 71,
   "id": "3cbba814-986c-486a-90be-e992b51cf0ac",
   "metadata": {},
   "outputs": [
    {
     "name": "stdout",
     "output_type": "stream",
     "text": [
      "7\n"
     ]
    }
   ],
   "source": [
    "a = 7\n",
    "b = 3\n",
    "result = a if a>b else b\n",
    "print(result)"
   ]
  },
  {
   "cell_type": "code",
   "execution_count": null,
   "id": "afaa1fc8-0f2b-499b-b060-1148907494eb",
   "metadata": {},
   "outputs": [],
   "source": []
  }
 ],
 "metadata": {
  "kernelspec": {
   "display_name": "Python 3 (ipykernel)",
   "language": "python",
   "name": "python3"
  },
  "language_info": {
   "codemirror_mode": {
    "name": "ipython",
    "version": 3
   },
   "file_extension": ".py",
   "mimetype": "text/x-python",
   "name": "python",
   "nbconvert_exporter": "python",
   "pygments_lexer": "ipython3",
   "version": "3.12.4"
  }
 },
 "nbformat": 4,
 "nbformat_minor": 5
}
