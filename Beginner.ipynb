{
 "cells": [
  {
   "cell_type": "markdown",
   "id": "8fc6ac5f-34af-4587-8fe4-1ce50e96df46",
   "metadata": {},
   "source": [
    "## DAY 1"
   ]
  },
  {
   "cell_type": "markdown",
   "id": "df8efb64-bb08-4208-9c0e-79749ad900c1",
   "metadata": {},
   "source": [
    "### Contents\n",
    "1. print()\n",
    "2. input()\n",
    "3. Multiple line -> \\n\n",
    "4. Tab in between words -> \\t\n",
    "5. Concatenate string using -> +\n",
    "6. Variables and its Naming Rules\n",
    "7. Project 1 - Band Name Generator"
   ]
  },
  {
   "cell_type": "code",
   "execution_count": 2,
   "id": "d2b03eb9-18a6-4303-977f-98e4eab95df9",
   "metadata": {},
   "outputs": [
    {
     "name": "stdout",
     "output_type": "stream",
     "text": [
      "Hello World!\n"
     ]
    }
   ],
   "source": [
    "#To print\n",
    "print(\"Hello World!\")"
   ]
  },
  {
   "cell_type": "code",
   "execution_count": 3,
   "id": "6632b3e6-743a-4a41-b22b-09badde91666",
   "metadata": {},
   "outputs": [
    {
     "name": "stdout",
     "output_type": "stream",
     "text": [
      "Hello world!\n",
      "Hello world!\n",
      "Hello world!\n"
     ]
    }
   ],
   "source": [
    "#To add multiple lines without any space\n",
    "print(\"Hello world!\\nHello world!\\nHello world!\")"
   ]
  },
  {
   "cell_type": "code",
   "execution_count": 4,
   "id": "dc03baa0-43fd-4b2a-84c0-8181913bbd73",
   "metadata": {},
   "outputs": [
    {
     "name": "stdout",
     "output_type": "stream",
     "text": [
      "Hello World!\n"
     ]
    }
   ],
   "source": [
    "#String concatenation with space between words\n",
    "print(\"Hello\" + \" \"+ \"World!\")"
   ]
  },
  {
   "cell_type": "code",
   "execution_count": 5,
   "id": "704e94f2-8937-4f26-8b3a-07fccecc2ee2",
   "metadata": {},
   "outputs": [
    {
     "name": "stdout",
     "output_type": "stream",
     "text": [
      "What is your name? Maggie\n"
     ]
    },
    {
     "name": "stdout",
     "output_type": "stream",
     "text": [
      "Hello Maggie!\n"
     ]
    }
   ],
   "source": [
    "#To get input from the user\n",
    "name = input('What is your name?')\n",
    "print('Hello ' + name + \"!\")"
   ]
  },
  {
   "cell_type": "markdown",
   "id": "81daa1e9-e2ff-4697-a064-c1febed6a5aa",
   "metadata": {},
   "source": [
    "##### Comment out all the codes using keyboard shortcut -> Ctrl+A+/"
   ]
  },
  {
   "cell_type": "code",
   "execution_count": 12,
   "id": "6a21e788-56b1-4408-a6c9-c7a90732c80d",
   "metadata": {},
   "outputs": [],
   "source": [
    "#Variables in Python\n",
    "name = 'Maggie'\n",
    "age = 5\n",
    "happy = True"
   ]
  },
  {
   "cell_type": "code",
   "execution_count": 14,
   "id": "172ba6c9-922d-4adf-9b0f-5fd661e382a7",
   "metadata": {},
   "outputs": [
    {
     "name": "stdout",
     "output_type": "stream",
     "text": [
      "What is the name of your pet? Maggie\n"
     ]
    },
    {
     "name": "stdout",
     "output_type": "stream",
     "text": [
      "6\n"
     ]
    }
   ],
   "source": [
    "#Length of string\n",
    "petNameLength = len(input('What is the name of your pet?'))\n",
    "print(petNameLength)"
   ]
  },
  {
   "cell_type": "code",
   "execution_count": 16,
   "id": "d12182fb-470d-46a4-9795-989bf0b6ba7a",
   "metadata": {},
   "outputs": [
    {
     "name": "stdout",
     "output_type": "stream",
     "text": [
      "juice\n",
      "milk\n"
     ]
    }
   ],
   "source": [
    "#If we have 2 glass one with milk and another with juice then interchange the content in the glass.\n",
    "glass1 = 'milk'\n",
    "glass2 = 'juice'\n",
    "\n",
    "glass3 = glass1\n",
    "glass1 = glass2\n",
    "glass2 = glass3\n",
    "\n",
    "print(glass1)\n",
    "print(glass2)"
   ]
  },
  {
   "cell_type": "markdown",
   "id": "5968724a-be11-4a05-a443-e254692e1fb6",
   "metadata": {},
   "source": [
    "##### Variable naming Rules:\n",
    "1. Names are descriptive\n",
    "2. Dont use space between words\n",
    "3. Dont start wth numbers\n",
    "4. Dont use special words like print or input\n",
    "5. Choose word that are less likely"
   ]
  },
  {
   "cell_type": "markdown",
   "id": "51ce4871-9104-4258-ba1d-632e6d6b4732",
   "metadata": {},
   "source": [
    "### Project 1 - Band Name Generator"
   ]
  },
  {
   "cell_type": "code",
   "execution_count": 20,
   "id": "5cc39903-23ef-4a2a-9bb4-e55314d39396",
   "metadata": {},
   "outputs": [
    {
     "name": "stdout",
     "output_type": "stream",
     "text": [
      "Welcome to the Band Name Generator.\n"
     ]
    },
    {
     "name": "stdout",
     "output_type": "stream",
     "text": [
      "What city did you grew up in?\t Manipal\n",
      "What is the name of your pet?\t Maggie\n"
     ]
    },
    {
     "name": "stdout",
     "output_type": "stream",
     "text": [
      "The most suitable band name is \"Manipal Maggie\" \n"
     ]
    }
   ],
   "source": [
    "print('Welcome to the Band Name Generator.')\n",
    "city = input(str('What city did you grew up in?\\t'))\n",
    "pet_name = input(str('What is the name of your pet?\\t'))\n",
    "print('The most suitable band name is' + ' \"' + city + ' ' + pet_name + '\" ')"
   ]
  },
  {
   "cell_type": "code",
   "execution_count": null,
   "id": "9d9e164d-9b54-45d3-aca6-8eb32296ecb2",
   "metadata": {},
   "outputs": [],
   "source": []
  },
  {
   "cell_type": "markdown",
   "id": "d1ad2caf-10db-4548-9fd2-1ccd9d78932f",
   "metadata": {},
   "source": [
    "## DAY 2"
   ]
  },
  {
   "cell_type": "markdown",
   "id": "f2c76b33-6b5d-419b-a7e1-10b6f8bfb8b8",
   "metadata": {},
   "source": [
    "### Contents\n",
    "1. Data Types\n",
    "2. Type Error, Type Checking, Type Conversion\n",
    "3. Mathematical Operations\n",
    "4. Number Manipulation\n",
    "5. Assignment Operators\n",
    "6. f-Strings\n",
    "7. Project 2 - Tip Calculator"
   ]
  },
  {
   "cell_type": "markdown",
   "id": "ad42ebf5-adbe-4121-9bec-063c3cbf2a8a",
   "metadata": {},
   "source": [
    "##### Data Types:\n",
    "1. Strings\n",
    "2. Integers\n",
    "3. Floats\n",
    "4. Booleans"
   ]
  },
  {
   "cell_type": "code",
   "execution_count": 40,
   "id": "d7bd3f2e-314b-4e0f-90db-d4bf49ce213f",
   "metadata": {},
   "outputs": [
    {
     "name": "stdout",
     "output_type": "stream",
     "text": [
      "H\n"
     ]
    }
   ],
   "source": [
    "#Subscripting (From Start 0)\n",
    "print(\"Hello\"[0])"
   ]
  },
  {
   "cell_type": "code",
   "execution_count": 42,
   "id": "45be5bed-dcda-44c3-9fb7-fad4711c52b3",
   "metadata": {},
   "outputs": [
    {
     "name": "stdout",
     "output_type": "stream",
     "text": [
      "o\n"
     ]
    }
   ],
   "source": [
    "#Subscripting (From End -1)\n",
    "print(\"Hello\"[-1])"
   ]
  },
  {
   "cell_type": "code",
   "execution_count": 54,
   "id": "6f162342-6d5a-4c65-8bfa-e1acb115fa84",
   "metadata": {},
   "outputs": [
    {
     "name": "stdout",
     "output_type": "stream",
     "text": [
      "123456\n"
     ]
    }
   ],
   "source": [
    "#String\n",
    "print(\"123\"+\"456\")"
   ]
  },
  {
   "cell_type": "code",
   "execution_count": 52,
   "id": "90b17f3f-84c9-4658-a784-f38c26383b80",
   "metadata": {},
   "outputs": [
    {
     "name": "stdout",
     "output_type": "stream",
     "text": [
      "579\n"
     ]
    }
   ],
   "source": [
    "#Interger\n",
    "print(123+456)"
   ]
  },
  {
   "cell_type": "code",
   "execution_count": 58,
   "id": "ca563c04-1e70-4d9a-a2ca-96e861e56530",
   "metadata": {},
   "outputs": [
    {
     "name": "stdout",
     "output_type": "stream",
     "text": [
      "123456789\n"
     ]
    }
   ],
   "source": [
    "#Large integer (12,34,56,789)\n",
    "print(12_34_56_789)"
   ]
  },
  {
   "cell_type": "code",
   "execution_count": 62,
   "id": "5e9b4cc2-16bc-43fe-84ab-6412ae4cd0fc",
   "metadata": {},
   "outputs": [
    {
     "name": "stdout",
     "output_type": "stream",
     "text": [
      "3.14159\n"
     ]
    }
   ],
   "source": [
    "#Float = Floating Point Number\n",
    "print(3.14159)"
   ]
  },
  {
   "cell_type": "code",
   "execution_count": 66,
   "id": "9413b77d-afc8-4830-ad28-a9b9dfa1d4dd",
   "metadata": {},
   "outputs": [
    {
     "name": "stdout",
     "output_type": "stream",
     "text": [
      "True\n",
      "False\n"
     ]
    }
   ],
   "source": [
    "#Boolean\n",
    "print(True)\n",
    "print(False)"
   ]
  },
  {
   "cell_type": "markdown",
   "id": "794a291d-063b-49dd-a4e8-051a4a2f1ce4",
   "metadata": {},
   "source": [
    "##### Type Error, Type Checking, Type Conversion:\n",
    "1. Type error: Can use len() for only strings.\n"
   ]
  },
  {
   "cell_type": "code",
   "execution_count": 89,
   "id": "8d3f0cbf-4a8a-49cf-a77c-4930876d7c88",
   "metadata": {},
   "outputs": [
    {
     "ename": "TypeError",
     "evalue": "object of type 'int' has no len()",
     "output_type": "error",
     "traceback": [
      "\u001b[1;31m---------------------------------------------------------------------------\u001b[0m",
      "\u001b[1;31mTypeError\u001b[0m                                 Traceback (most recent call last)",
      "Cell \u001b[1;32mIn[89], line 1\u001b[0m\n\u001b[1;32m----> 1\u001b[0m \u001b[38;5;28mlen\u001b[39m(\u001b[38;5;241m123456\u001b[39m)\n",
      "\u001b[1;31mTypeError\u001b[0m: object of type 'int' has no len()"
     ]
    }
   ],
   "source": [
    "len(123456)"
   ]
  },
  {
   "cell_type": "code",
   "execution_count": 91,
   "id": "c53f7252-da5a-438e-97b3-3e130fc1c75f",
   "metadata": {},
   "outputs": [
    {
     "data": {
      "text/plain": [
       "5"
      ]
     },
     "execution_count": 91,
     "metadata": {},
     "output_type": "execute_result"
    }
   ],
   "source": [
    "len(\"12345\")"
   ]
  },
  {
   "cell_type": "markdown",
   "id": "496f65de-cc40-403f-8497-eab5d8e86de5",
   "metadata": {},
   "source": [
    "2. Type Checking: type()"
   ]
  },
  {
   "cell_type": "code",
   "execution_count": 96,
   "id": "eb37eaaa-f1e1-402a-afe8-1c21fbd09aac",
   "metadata": {},
   "outputs": [
    {
     "name": "stdout",
     "output_type": "stream",
     "text": [
      "<class 'bool'>\n"
     ]
    }
   ],
   "source": [
    "print(type(True))"
   ]
  },
  {
   "cell_type": "code",
   "execution_count": 98,
   "id": "a7a82e46-64d9-4c93-9401-f861016c3d1b",
   "metadata": {},
   "outputs": [
    {
     "name": "stdout",
     "output_type": "stream",
     "text": [
      "<class 'str'>\n"
     ]
    }
   ],
   "source": [
    "print(type('Name'))"
   ]
  },
  {
   "cell_type": "code",
   "execution_count": 100,
   "id": "d534334f-91c8-4a5f-9a43-893b323d33b1",
   "metadata": {},
   "outputs": [
    {
     "name": "stdout",
     "output_type": "stream",
     "text": [
      "<class 'int'>\n"
     ]
    }
   ],
   "source": [
    "print(type(123))"
   ]
  },
  {
   "cell_type": "code",
   "execution_count": 102,
   "id": "34012746-49f4-481b-ad14-c4854a2eb3b0",
   "metadata": {},
   "outputs": [
    {
     "name": "stdout",
     "output_type": "stream",
     "text": [
      "<class 'float'>\n"
     ]
    }
   ],
   "source": [
    "print(type(1.23))"
   ]
  },
  {
   "cell_type": "markdown",
   "id": "6ec1b1d7-6791-4faf-a6bf-e768e1e7cda9",
   "metadata": {},
   "source": [
    "3. Type Conversion: str(), int(), bool()"
   ]
  },
  {
   "cell_type": "code",
   "execution_count": 110,
   "id": "65da5736-a55d-41bf-8e8a-edad1a694cfd",
   "metadata": {},
   "outputs": [
    {
     "name": "stdout",
     "output_type": "stream",
     "text": [
      "579\n"
     ]
    }
   ],
   "source": [
    "print(int(\"123\")+int(\"456\"))"
   ]
  },
  {
   "cell_type": "code",
   "execution_count": 114,
   "id": "16f2c757-cac4-4df7-b46b-57d8874d05dd",
   "metadata": {},
   "outputs": [
    {
     "ename": "ValueError",
     "evalue": "invalid literal for int() with base 10: 'abc'",
     "output_type": "error",
     "traceback": [
      "\u001b[1;31m---------------------------------------------------------------------------\u001b[0m",
      "\u001b[1;31mValueError\u001b[0m                                Traceback (most recent call last)",
      "Cell \u001b[1;32mIn[114], line 2\u001b[0m\n\u001b[0;32m      1\u001b[0m \u001b[38;5;66;03m#Value Error\u001b[39;00m\n\u001b[1;32m----> 2\u001b[0m \u001b[38;5;28mprint\u001b[39m(\u001b[38;5;28mint\u001b[39m(\u001b[38;5;124m\"\u001b[39m\u001b[38;5;124mabc\u001b[39m\u001b[38;5;124m\"\u001b[39m)\u001b[38;5;241m+\u001b[39m\u001b[38;5;28mint\u001b[39m(\u001b[38;5;124m\"\u001b[39m\u001b[38;5;124m123\u001b[39m\u001b[38;5;124m\"\u001b[39m))\n",
      "\u001b[1;31mValueError\u001b[0m: invalid literal for int() with base 10: 'abc'"
     ]
    }
   ],
   "source": [
    "#Value Error\n",
    "print(int(\"abc\")+int(\"123\"))"
   ]
  },
  {
   "cell_type": "code",
   "execution_count": 144,
   "id": "7f1ffe9c-f514-47dc-9225-874e54cf4635",
   "metadata": {},
   "outputs": [
    {
     "name": "stdout",
     "output_type": "stream",
     "text": [
      "Enter your Name Maggie\n"
     ]
    },
    {
     "name": "stdout",
     "output_type": "stream",
     "text": [
      "Number of letter in your name: 6\n"
     ]
    }
   ],
   "source": [
    "#Type Error - print(\"Number of letter in your name: \" + len(input(\"Enter your Name\"))) --> String +  Int not possible\n",
    "print(\"Number of letter in your name: \" + str(len(input(\"Enter your Name\"))))"
   ]
  },
  {
   "cell_type": "markdown",
   "id": "ebb2436b-3a03-4fed-83fb-9b2511d02d8d",
   "metadata": {},
   "source": [
    "##### Mathematical Operations:\n",
    "1. Addition(+)\n",
    "2. Subtraction(-)\n",
    "3. Multiplication(*)\n",
    "4. Division(/)\n",
    "5. Remainder(%)\n",
    "6. Power(**)\n",
    "\n",
    "Order of Execution:\n",
    "* PEMDAS --> P-Parentheses, E-Exponents, M-Multiplication, D-Division, A-Addition, S-Sutraction"
   ]
  },
  {
   "cell_type": "code",
   "execution_count": 164,
   "id": "82768d7e-0056-4324-ade1-a9d66951f2ba",
   "metadata": {},
   "outputs": [
    {
     "name": "stdout",
     "output_type": "stream",
     "text": [
      "3\n"
     ]
    }
   ],
   "source": [
    "#Addition\n",
    "print(1+2)"
   ]
  },
  {
   "cell_type": "code",
   "execution_count": 166,
   "id": "f7e97e82-35ec-4ff9-ae67-64fdfcd40017",
   "metadata": {},
   "outputs": [
    {
     "name": "stdout",
     "output_type": "stream",
     "text": [
      "-1\n"
     ]
    }
   ],
   "source": [
    "#Subtraction\n",
    "print(1-2)"
   ]
  },
  {
   "cell_type": "code",
   "execution_count": 168,
   "id": "7a52a9f7-58e5-4765-a840-67231b54944e",
   "metadata": {},
   "outputs": [
    {
     "name": "stdout",
     "output_type": "stream",
     "text": [
      "2\n"
     ]
    }
   ],
   "source": [
    "#Multiplication\n",
    "print(1*2)"
   ]
  },
  {
   "cell_type": "code",
   "execution_count": 170,
   "id": "62c41e12-5910-452a-91f9-e9c310be9413",
   "metadata": {},
   "outputs": [
    {
     "name": "stdout",
     "output_type": "stream",
     "text": [
      "2.0\n",
      "2\n"
     ]
    }
   ],
   "source": [
    "#Division - Due to implicit type casting the answer will be in float for (6/3)\n",
    "print(6/3)\n",
    "print(6//3)"
   ]
  },
  {
   "cell_type": "code",
   "execution_count": 174,
   "id": "a1c897af-e192-4397-b841-b014f994f870",
   "metadata": {},
   "outputs": [
    {
     "name": "stdout",
     "output_type": "stream",
     "text": [
      "4\n"
     ]
    }
   ],
   "source": [
    "#Power\n",
    "print(2**2)"
   ]
  },
  {
   "cell_type": "code",
   "execution_count": 178,
   "id": "fc254ed1-ee77-45a8-8661-9d8cb725b2ff",
   "metadata": {},
   "outputs": [
    {
     "name": "stdout",
     "output_type": "stream",
     "text": [
      "2\n"
     ]
    }
   ],
   "source": [
    "#Remainder\n",
    "print(6%4)"
   ]
  },
  {
   "cell_type": "code",
   "execution_count": 194,
   "id": "d5c031ae-0c0e-4e6a-bd3c-bcf4dfe49ec5",
   "metadata": {},
   "outputs": [
    {
     "name": "stdout",
     "output_type": "stream",
     "text": [
      "7.0\n",
      "3.0\n"
     ]
    }
   ],
   "source": [
    "#PEMDAS\n",
    "print(3*3+3/3-3)\n",
    "\n",
    "#Get answer as 3\n",
    "print(3*(3+3)/3-3)"
   ]
  },
  {
   "cell_type": "markdown",
   "id": "bbcef297-0713-44ab-b1d2-6b3cff8a49f1",
   "metadata": {},
   "source": [
    "##### Number Manipulation (Rounding):"
   ]
  },
  {
   "cell_type": "code",
   "execution_count": 208,
   "id": "2a76cc62-3c21-45f5-9900-60015dff87c1",
   "metadata": {},
   "outputs": [
    {
     "name": "stdout",
     "output_type": "stream",
     "text": [
      "3\n",
      "3.15\n"
     ]
    }
   ],
   "source": [
    "#round()\n",
    "print(round(3.14723983984))\n",
    "\n",
    "#round to 2 decimal place\n",
    "print(round(3.14723983984,2))"
   ]
  },
  {
   "cell_type": "markdown",
   "id": "1aeb032f-a057-4a91-8e95-43e71da0752f",
   "metadata": {},
   "source": [
    "##### Assignment Operator(+=, -=, *=, /=):"
   ]
  },
  {
   "cell_type": "code",
   "execution_count": 215,
   "id": "9ed85f1f-89a9-4c99-b487-04b72d419c6d",
   "metadata": {},
   "outputs": [
    {
     "name": "stdout",
     "output_type": "stream",
     "text": [
      "1\n"
     ]
    }
   ],
   "source": [
    "score = 0\n",
    "\n",
    "#User scores a point\n",
    "score += 1\n",
    "print(score)"
   ]
  },
  {
   "cell_type": "markdown",
   "id": "4d26c37e-a644-4a98-808c-e4741b405ae8",
   "metadata": {},
   "source": [
    "##### f-Strings:"
   ]
  },
  {
   "cell_type": "code",
   "execution_count": 224,
   "id": "ae8fa8a3-a6e8-4724-951d-f403f028630d",
   "metadata": {},
   "outputs": [
    {
     "name": "stdout",
     "output_type": "stream",
     "text": [
      "Your Score is =0, your height is 1.8.\n",
      "You are winning is True.\n"
     ]
    }
   ],
   "source": [
    "score = 0\n",
    "height = 1.8\n",
    "is_winning = True\n",
    "\n",
    "print(f\"Your Score is ={score}, your height is {height}.\\nYou are winning is {is_winning}.\")"
   ]
  },
  {
   "cell_type": "markdown",
   "id": "b26e6678-f4d3-40fd-95c2-fef1d0c1279f",
   "metadata": {},
   "source": [
    "### Project 2 - Tip Calculator"
   ]
  },
  {
   "cell_type": "code",
   "execution_count": 243,
   "id": "4e4c7e02-6f16-4433-bf3f-418594e7cd04",
   "metadata": {},
   "outputs": [
    {
     "name": "stdout",
     "output_type": "stream",
     "text": [
      "Welcome to the tip calculator!\n"
     ]
    },
    {
     "name": "stdout",
     "output_type": "stream",
     "text": [
      "What was the total bill? $ 153.45\n",
      "How much tip would you like to give? 10,12, or 15?  15\n",
      "How many people to split the bill?  5\n"
     ]
    },
    {
     "name": "stdout",
     "output_type": "stream",
     "text": [
      "Each person should pay: $35.29\n"
     ]
    }
   ],
   "source": [
    "print('Welcome to the tip calculator!')\n",
    "bill = float(input('What was the total bill? $'))\n",
    "tip = int(input('How much tip would you like to give? 10,12, or 15? '))\n",
    "split = int(input('How many people to split the bill? '))\n",
    "split_bill = round(((bill*tip)/100 + bill)/split,2)\n",
    "print(f\"Each person should pay: ${split_bill}\")"
   ]
  },
  {
   "cell_type": "code",
   "execution_count": null,
   "id": "b3488c5e-d42e-48e3-a417-77c793f84cd1",
   "metadata": {},
   "outputs": [],
   "source": []
  },
  {
   "cell_type": "markdown",
   "id": "2e89c200-c763-456a-b68c-9ea99c8590d9",
   "metadata": {},
   "source": [
    "## DAY 3"
   ]
  },
  {
   "cell_type": "markdown",
   "id": "9ed0d849-5c5e-4081-891f-7b52a879fcbc",
   "metadata": {},
   "source": [
    "### Contents\n",
    "1. Conditional Statements (if and else)\n",
    "2. Comparison Operator\n",
    "3. Nested if Statements (if, else if/elif, else)\n",
    "4. Multiple if\n",
    "5. Logical Operators\n",
    "6. Project 3 - Treasure Island"
   ]
  },
  {
   "cell_type": "markdown",
   "id": "df5b4520-92ee-4856-a03e-f08526a02031",
   "metadata": {},
   "source": [
    "##### Conditional Statement syntax:\n",
    "```python\n",
    "if condition:\n",
    "    # do this\n",
    "else:\n",
    "    # dothis\n"
   ]
  },
  {
   "cell_type": "code",
   "execution_count": 24,
   "id": "b7a67732-2d08-4b69-b2ff-7093fb1efc1d",
   "metadata": {},
   "outputs": [
    {
     "name": "stdout",
     "output_type": "stream",
     "text": [
      "Welcome to the rollercoaster!\n"
     ]
    },
    {
     "name": "stdout",
     "output_type": "stream",
     "text": [
      "What is your height in cm?  178\n"
     ]
    },
    {
     "name": "stdout",
     "output_type": "stream",
     "text": [
      "You can ride the rollercoaster\n"
     ]
    }
   ],
   "source": [
    "#Example\n",
    "print('Welcome to the rollercoaster!')\n",
    "height = int(input('What is your height in cm? '))\n",
    "\n",
    "if height >= 120:\n",
    "    print(\"You can ride the rollercoaster\")\n",
    "else:\n",
    "    print(\"Sorry you have to grow taller before you can ride.\")"
   ]
  },
  {
   "cell_type": "markdown",
   "id": "89d0fdd8-5c25-490c-adac-1959fe89f894",
   "metadata": {},
   "source": [
    "##### Comparison Operators:\n",
    "1. Equal(==)\n",
    "2. Not equal(!=)\n",
    "3. Less than(<)\n",
    "4. Greater than(>)\n",
    "5. Less than or equal/Atmost(<=)\n",
    "6. Greater than or equal to/Atleast(>=)"
   ]
  },
  {
   "cell_type": "markdown",
   "id": "5d32911a-32ef-4916-afe8-c495dfff5939",
   "metadata": {},
   "source": [
    "##### Check Odd or Even:"
   ]
  },
  {
   "cell_type": "code",
   "execution_count": 39,
   "id": "e04f2c7d-d24c-46f9-b633-24f7c21ef15d",
   "metadata": {},
   "outputs": [
    {
     "name": "stdout",
     "output_type": "stream",
     "text": [
      "Enter an integer value:  3\n"
     ]
    },
    {
     "name": "stdout",
     "output_type": "stream",
     "text": [
      "Odd\n"
     ]
    }
   ],
   "source": [
    "num = int(input('Enter an integer value: '))\n",
    "\n",
    "if num % 2 == 0:\n",
    "    print('Even')\n",
    "else:\n",
    "    print('Odd')"
   ]
  },
  {
   "cell_type": "markdown",
   "id": "92e5ecd2-f54c-4aa5-82e2-4ae1c2d28360",
   "metadata": {},
   "source": [
    "##### Nested if statements:\n",
    "```python\n",
    "if condition1:\n",
    "    # do A\n",
    "elif condition2:\n",
    "    # do B\n",
    "else:\n",
    "    # do this"
   ]
  },
  {
   "cell_type": "markdown",
   "id": "4e296185-e824-4ea4-b41f-109ddd77d93c",
   "metadata": {},
   "source": [
    "##### Compute and check BMI:"
   ]
  },
  {
   "cell_type": "code",
   "execution_count": 56,
   "id": "a2362e68-23cf-48e0-83de-53d22c0a8f89",
   "metadata": {},
   "outputs": [
    {
     "name": "stdout",
     "output_type": "stream",
     "text": [
      "Enter your weight in kg:  63\n",
      "Enter your height in m:  1.78\n"
     ]
    },
    {
     "name": "stdout",
     "output_type": "stream",
     "text": [
      "normal weight\n"
     ]
    }
   ],
   "source": [
    "weight = float(input('Enter your weight in kg: '))\n",
    "height = float(input('Enter your height in m: '))\n",
    "\n",
    "bmi = weight / (height ** 2)\n",
    "\n",
    "# 🚨 Do not modify the values above\n",
    "# Write your code below 👇\n",
    "if bmi < 18.5:\n",
    "    print('underweight')\n",
    "elif 18.5<=bmi<25:\n",
    "    print('normal weight')\n",
    "else:\n",
    "    print('overweight')"
   ]
  },
  {
   "cell_type": "markdown",
   "id": "5ef560a5-d17c-45ff-ad53-83b79dde2668",
   "metadata": {},
   "source": [
    "##### Nested if statements:\n",
    "```python\n",
    "if condition1:\n",
    "    # do A\n",
    "if condition2:\n",
    "    # do B\n",
    "if condition3:\n",
    "    # do C"
   ]
  },
  {
   "cell_type": "markdown",
   "id": "22b8de42-dcc7-4e83-9762-0cf352341858",
   "metadata": {},
   "source": [
    "##### Python Pizza Deliveries:"
   ]
  },
  {
   "cell_type": "code",
   "execution_count": 107,
   "id": "fff9a01d-7629-4ba5-a9fe-b8ed613744fe",
   "metadata": {},
   "outputs": [
    {
     "name": "stdout",
     "output_type": "stream",
     "text": [
      "Welcome to Python Pizza Deliveries!\n"
     ]
    },
    {
     "name": "stdout",
     "output_type": "stream",
     "text": [
      "What size pizza do you want? S, M, or L:  L\n",
      "Do you want pepperoni on your pizza? Y or N:  Y\n",
      "Do you want extra cheese? Y or N:  N\n"
     ]
    },
    {
     "name": "stdout",
     "output_type": "stream",
     "text": [
      "You wil get large size pizza\n",
      "Your total bill is $28\n"
     ]
    }
   ],
   "source": [
    "print('Welcome to Python Pizza Deliveries!')\n",
    "size = input(\"What size pizza do you want? S, M, or L: \")\n",
    "pepperoni = input('Do you want pepperoni on your pizza? Y or N: ')\n",
    "extra_cheese = input(\"Do you want extra cheese? Y or N: \")\n",
    "price = 0\n",
    "\n",
    "if size == 'S':\n",
    "    print('You will get small size pizza')\n",
    "    price += 15\n",
    "elif size == 'M':\n",
    "    print('You will get medium size pizza')\n",
    "    price += 20\n",
    "else:\n",
    "    print('You wil get large size pizza')\n",
    "    price += 25\n",
    "\n",
    "if pepperoni == 'Y':\n",
    "    if size == 'S':\n",
    "        price += 2\n",
    "    else:\n",
    "        price += 3\n",
    "\n",
    "if extra_cheese == 'Y':\n",
    "    price += 1\n",
    "    print(f'Your total bill is ${price}')\n",
    "else:\n",
    "    print(f'Your total bill is ${price}')"
   ]
  },
  {
   "cell_type": "markdown",
   "id": "44eec6e4-aeed-492a-9b8b-2ca1f478136a",
   "metadata": {},
   "source": [
    "##### Logical Operators:\n",
    "1. A and B -> Works only when both are True\n",
    "2. C or D -> Fails only when both are False\n",
    "3. not E"
   ]
  },
  {
   "cell_type": "code",
   "execution_count": 129,
   "id": "4d4fd18c-f954-441b-af93-88c6c9abe315",
   "metadata": {},
   "outputs": [
    {
     "name": "stdout",
     "output_type": "stream",
     "text": [
      "True\n",
      "False\n"
     ]
    }
   ],
   "source": [
    "#and operator\n",
    "print(10>8 and 2>1)\n",
    "print(8>10 and 2>1)"
   ]
  },
  {
   "cell_type": "code",
   "execution_count": 131,
   "id": "f675eb7b-0a30-4a8a-a7ee-322d5e4b46ac",
   "metadata": {},
   "outputs": [
    {
     "name": "stdout",
     "output_type": "stream",
     "text": [
      "False\n",
      "True\n"
     ]
    }
   ],
   "source": [
    "#or operator\n",
    "print(8>10 or 1>2)\n",
    "print(8>10 or 2>1)"
   ]
  },
  {
   "cell_type": "code",
   "execution_count": 133,
   "id": "137fc6ce-cd7c-4b29-9e84-ae98390dbda3",
   "metadata": {},
   "outputs": [
    {
     "name": "stdout",
     "output_type": "stream",
     "text": [
      "False\n",
      "True\n"
     ]
    }
   ],
   "source": [
    "#not operator\n",
    "print(not True)\n",
    "print(not False)"
   ]
  },
  {
   "cell_type": "markdown",
   "id": "b741b5ee-8a55-4c89-819c-f1184b39eb92",
   "metadata": {},
   "source": [
    "##### Rollercoater Ride:"
   ]
  },
  {
   "cell_type": "code",
   "execution_count": 138,
   "id": "081984c4-dea6-4c8f-a098-b536817db43a",
   "metadata": {},
   "outputs": [
    {
     "name": "stdout",
     "output_type": "stream",
     "text": [
      "Welcome to the rollercoaster!\n"
     ]
    },
    {
     "name": "stdout",
     "output_type": "stream",
     "text": [
      "What is your height in cm?  178\n"
     ]
    },
    {
     "name": "stdout",
     "output_type": "stream",
     "text": [
      "You can ride the rollercoaster\n"
     ]
    },
    {
     "name": "stdout",
     "output_type": "stream",
     "text": [
      "What is your age?  45\n"
     ]
    },
    {
     "name": "stdout",
     "output_type": "stream",
     "text": [
      "Have a free ride!\n"
     ]
    },
    {
     "name": "stdout",
     "output_type": "stream",
     "text": [
      "Do you want to have a photo taken? Type y for Yes and n for No.  N\n"
     ]
    },
    {
     "name": "stdout",
     "output_type": "stream",
     "text": [
      "Your total bill is $0\n"
     ]
    }
   ],
   "source": [
    "print('Welcome to the rollercoaster!')\n",
    "height = int(input('What is your height in cm? '))\n",
    "ticket_price = 0\n",
    "\n",
    "if height >= 120:\n",
    "    print(\"You can ride the rollercoaster\")\n",
    "    age = int(input('What is your age? '))\n",
    "    if age <= 12:\n",
    "        print(\"Child tickets are $5\")\n",
    "        ticket_price = 5\n",
    "    elif age <= 18:\n",
    "        print(\"Youth tickets are $7\")\n",
    "        ticket_price = 7\n",
    "    elif age >= 45 and age <= 55:\n",
    "        print(\"Have a free ride!\")\n",
    "        ticket_price = 0\n",
    "    else:\n",
    "        print(\"Adult tickets are $12\")\n",
    "        ticket_price = 12\n",
    "    \n",
    "    wants_photo = str(input(\"Do you want to have a photo taken? Type y for Yes and n for No. \"))\n",
    "    if wants_photo == \"y\":\n",
    "        ticket_price += 3\n",
    "        print(f\"Your total bill is ${ticket_price}\")\n",
    "    else:\n",
    "        print(f\"Your total bill is ${ticket_price}\")\n",
    "        \n",
    "else:\n",
    "    print(\"Sorry you have to grow taller before you can ride.\")"
   ]
  },
  {
   "cell_type": "markdown",
   "id": "57c7006c-b0a2-429e-954d-bad86fff9206",
   "metadata": {},
   "source": [
    "### Project 3 - Treasure Island"
   ]
  },
  {
   "cell_type": "code",
   "execution_count": 17,
   "id": "045feb81-ac99-448f-ab0e-c041cf3b9493",
   "metadata": {},
   "outputs": [
    {
     "name": "stdout",
     "output_type": "stream",
     "text": [
      "Welcome to Treasure Island.\n",
      "Your mission is to find the tresure.\n"
     ]
    },
    {
     "name": "stdout",
     "output_type": "stream",
     "text": [
      "You're at a cross road. Where do you want to go?\n",
      " \tType 'Left' or 'Right'  Left\n",
      "You've come to the lake. There is an island in the middle of the lake.\n",
      " \tType 'wait' to wait for the boat. Type 'swim' to swim across. wait\n",
      "You arrive ar the island unharmed. There is a hiuse with 3 doors. \n",
      " \tOne Red, one Yellow, and one Blue. Which color do you choose? Yellow\n"
     ]
    },
    {
     "name": "stdout",
     "output_type": "stream",
     "text": [
      "You Win!\n"
     ]
    }
   ],
   "source": [
    "print('Welcome to Treasure Island.\\nYour mission is to find the tresure.')\n",
    "\n",
    "direction = input(\"You're at a cross road. Where do you want to go?\\n \\tType 'Left' or 'Right' \")\n",
    "if direction == 'Left':\n",
    "    activity = input(\"You've come to the lake. There is an island in the middle of the lake.\\n \\tType 'wait' to wait for the boat. Type 'swim' to swim across.\")\n",
    "    if activity == 'wait':\n",
    "        color = input(\"You arrive ar the island unharmed. There is a hiuse with 3 doors. \\n \\tOne Red, one Yellow, and one Blue. Which color do you choose?\") \n",
    "        if color == 'Yellow':\n",
    "            print('You Win!')\n",
    "        elif color == 'Red' or color == 'Blue':\n",
    "            print('Game Over.')\n",
    "    else:\n",
    "        print('Game Over.')\n",
    "else:\n",
    "    print('Game Over.')"
   ]
  },
  {
   "cell_type": "code",
   "execution_count": null,
   "id": "9152698d-701c-4be1-863a-b7b519e7e48e",
   "metadata": {},
   "outputs": [],
   "source": []
  },
  {
   "cell_type": "markdown",
   "id": "28ae6ffb-20a7-44d9-a912-5771d6286e3e",
   "metadata": {},
   "source": [
    "## DAY 4"
   ]
  },
  {
   "cell_type": "markdown",
   "id": "0bd87d37-a70e-424b-ae2e-88b2bb88cb1b",
   "metadata": {},
   "source": [
    "### Contents\n",
    "1. Randomisation\n",
    "2. Module\n",
    "3. Lists (Indexing, Alter, Update)\n",
    "4. Project 4 - Rock Paper Scissors"
   ]
  },
  {
   "cell_type": "code",
   "execution_count": 53,
   "id": "ed7aeaf6-a13e-4d89-be00-33d3b36bff61",
   "metadata": {},
   "outputs": [
    {
     "name": "stdout",
     "output_type": "stream",
     "text": [
      "1\n"
     ]
    }
   ],
   "source": [
    "#random.randint(a,b) --> Provides integer between a and b(a & b are inclusive)\n",
    "import random\n",
    "\n",
    "random_integer = random.randint(1,10)  \n",
    "print(random_integer)"
   ]
  },
  {
   "cell_type": "code",
   "execution_count": 51,
   "id": "1f84c698-be50-4845-915a-9b862ad3c69a",
   "metadata": {},
   "outputs": [
    {
     "name": "stdout",
     "output_type": "stream",
     "text": [
      "0.07855321775830337\n"
     ]
    }
   ],
   "source": [
    "#random.random() --> Provides number between 0 and 1\n",
    "import random\n",
    "\n",
    "random_numver_0_to_1 = random.random()    \n",
    "print(random_numver_0_to_1)"
   ]
  },
  {
   "cell_type": "code",
   "execution_count": 57,
   "id": "043b99cb-4393-4c8c-9411-21e0a76c9c9d",
   "metadata": {},
   "outputs": [
    {
     "name": "stdout",
     "output_type": "stream",
     "text": [
      "3.27809813546816\n"
     ]
    }
   ],
   "source": [
    "#random.uniform(a,b) --> Provides number between a and b(a & b are inclusive)\n",
    "import random\n",
    "\n",
    "random_float = random.uniform(1,10)    \n",
    "print(random_float)"
   ]
  },
  {
   "cell_type": "markdown",
   "id": "69cb18d6-6c26-4933-8f23-07e5999fa855",
   "metadata": {},
   "source": [
    "##### Heads or Tails:"
   ]
  },
  {
   "cell_type": "code",
   "execution_count": 73,
   "id": "a287e014-e25d-4a53-b7d0-1a2c2272438e",
   "metadata": {},
   "outputs": [
    {
     "name": "stdout",
     "output_type": "stream",
     "text": [
      "Heads\n"
     ]
    }
   ],
   "source": [
    "import random\n",
    "\n",
    "heads_or_tails = random.randint(0,1)\n",
    "if heads_or_tails == 1:\n",
    "    print('Heads')\n",
    "else:\n",
    "    print('Tails')"
   ]
  },
  {
   "cell_type": "markdown",
   "id": "7c579542-572a-4366-b42a-48590a4e87b1",
   "metadata": {},
   "source": [
    "##### Lists\n",
    "```python\n",
    "fruits = [item1, item2]\n",
    "fruits = ['cherry','apple','grapes']\n",
    "```\n",
    "1. Enclosed by square braces --> []\n",
    "2. Order is the same as the order its listed.\n",
    "3. "
   ]
  },
  {
   "cell_type": "code",
   "execution_count": 101,
   "id": "8221d1f6-c367-4f4b-a99d-96a05208c85e",
   "metadata": {},
   "outputs": [],
   "source": [
    "#Example\n",
    "states_of_india = ['Karnataka','Goa','Kashmir','Kerala']"
   ]
  },
  {
   "cell_type": "code",
   "execution_count": 103,
   "id": "44620a43-491c-44bf-a62d-eda748650791",
   "metadata": {},
   "outputs": [
    {
     "name": "stdout",
     "output_type": "stream",
     "text": [
      "Karnataka\n",
      "Kerala\n",
      "['Karnataka', 'Goa', 'Kashmir', 'Madhya Pradesh']\n",
      "['Karnataka', 'Goa', 'Kashmir', 'Madhya Pradesh', 'Punjab']\n"
     ]
    }
   ],
   "source": [
    "#Indexing\n",
    "print(states_of_india[0])\n",
    "\n",
    "#Indexing from end\n",
    "print(states_of_india[-1])\n",
    "\n",
    "#Alter List\n",
    "states_of_india[3] = \"Madhya Pradesh\"\n",
    "print(states_of_india)\n",
    "\n",
    "#Add new element to the list --> .append()\n",
    "states_of_india.append(\"Punjab\")\n",
    "print(states_of_india)"
   ]
  },
  {
   "cell_type": "markdown",
   "id": "aef49f3a-b5e9-489f-893b-50aadcec2470",
   "metadata": {},
   "source": [
    "##### Banker Roulette:"
   ]
  },
  {
   "cell_type": "code",
   "execution_count": 111,
   "id": "15880339-7341-4789-b15a-cb9d3e0fc243",
   "metadata": {},
   "outputs": [
    {
     "name": "stdout",
     "output_type": "stream",
     "text": [
      "Ross\n",
      "Monica\n"
     ]
    }
   ],
   "source": [
    "friends = ['Ross','Rachel','Monica','Phoebe','Joey','Chandler']\n",
    "\n",
    "import random\n",
    "print(friends[random.randint(0,5)]) #1st option\n",
    "\n",
    "print(random.choice(friends))#2nd option"
   ]
  },
  {
   "cell_type": "markdown",
   "id": "1c295433-4040-439d-b46f-1c48f1e4487d",
   "metadata": {},
   "source": [
    "### Project 4 - Rock Paper Scissors"
   ]
  },
  {
   "cell_type": "code",
   "execution_count": 299,
   "id": "a826c423-f1fd-434f-9c8f-a9eba970742e",
   "metadata": {},
   "outputs": [
    {
     "name": "stdout",
     "output_type": "stream",
     "text": [
      "What do you choose? Type 0 for Rock, 1 for Paper or 2 for Scissors.  2\n"
     ]
    },
    {
     "name": "stdout",
     "output_type": "stream",
     "text": [
      "\n",
      "    _______\n",
      "---'   ____)____\n",
      "          ______)\n",
      "       __________)\n",
      "      (____)\n",
      "---.__(___)\n",
      "\n",
      "Compter Choice: \n",
      "\n",
      "    _______\n",
      "---'   ____)____\n",
      "          ______)\n",
      "          _______)\n",
      "         _______)\n",
      "---.__________)\n",
      "\n",
      "You win!!!\n"
     ]
    }
   ],
   "source": [
    "# Rock Symbol\n",
    "Rock = \"\"\"\n",
    "    _______\n",
    "---'   ____)\n",
    "      (_____)\n",
    "      (_____)\n",
    "      (____)\n",
    "---.__(___)\n",
    "\"\"\"\n",
    "\n",
    "# Paper Symbol\n",
    "Paper = \"\"\"\n",
    "    _______\n",
    "---'   ____)____\n",
    "          ______)\n",
    "          _______)\n",
    "         _______)\n",
    "---.__________)\n",
    "\"\"\"\n",
    "\n",
    "# Scissors Symbol\n",
    "Scissors = \"\"\"\n",
    "    _______\n",
    "---'   ____)____\n",
    "          ______)\n",
    "       __________)\n",
    "      (____)\n",
    "---.__(___)\n",
    "\"\"\"\n",
    "game_images =[Rock, Paper, Scissors]\n",
    "human_choice = int(input('What do you choose? Type 0 for Rock, 1 for Paper or 2 for Scissors. '))\n",
    "if human_choice < 3:\n",
    "    print(game_images[human_choice])\n",
    "\n",
    "print('Compter Choice: ')\n",
    "import random\n",
    "\n",
    "computer_choice = random.randint(0,2)\n",
    "print(game_images[computer_choice])\n",
    "\n",
    "if human_choice >= 3:\n",
    "    print('You typed an invalid number. You Loose')\n",
    "elif human_choice == computer_choice:\n",
    "    print('Its a Draw')\n",
    "elif (human_choice == 0) and (computer_choice == 2):\n",
    "    print('You win!!!')\n",
    "elif (human_choice == 2) and (computer_choice == 0):\n",
    "    print('You Loose')\n",
    "elif human_choice > computer_choice:\n",
    "    print('You win!!!')\n",
    "elif human_choice < computer_choice :\n",
    "    print('You Loose')"
   ]
  },
  {
   "cell_type": "code",
   "execution_count": null,
   "id": "940f8808-cfff-4734-9a9f-00f2744d67cd",
   "metadata": {},
   "outputs": [],
   "source": []
  },
  {
   "cell_type": "markdown",
   "id": "1815c182-bda5-4c37-b7f5-6a70b4b905fb",
   "metadata": {},
   "source": [
    "## DAY 5"
   ]
  },
  {
   "cell_type": "markdown",
   "id": "483754ff-cd44-49c9-b5d2-b0afc1bfff7f",
   "metadata": {},
   "source": [
    "### Contents\n",
    "1. For Loops\n",
    "2. range()\n",
    "3. Project 5 - Password Generator"
   ]
  },
  {
   "cell_type": "markdown",
   "id": "0bfafb0d-4f14-43b2-b08a-a68a33254bbe",
   "metadata": {},
   "source": [
    "##### For Loop:\n",
    "```python\n",
    "for item in list_of_items:\n",
    "    #Do something to each item"
   ]
  },
  {
   "cell_type": "code",
   "execution_count": 11,
   "id": "5469f37c-c48b-4198-a623-cf0c7cb8be97",
   "metadata": {},
   "outputs": [
    {
     "name": "stdout",
     "output_type": "stream",
     "text": [
      "Apple\n",
      "Apple Pie\n",
      "Peach\n",
      "Peach Pie\n",
      "Peer\n",
      "Peer Pie\n"
     ]
    }
   ],
   "source": [
    "#Example\n",
    "fruits = ['Apple','Peach','Peer']\n",
    "for fruit in fruits:\n",
    "    print(fruit)\n",
    "    print(fruit +' Pie')"
   ]
  },
  {
   "cell_type": "code",
   "execution_count": 61,
   "id": "92d73a07-0953-4ef7-983e-cf1a8eab1427",
   "metadata": {},
   "outputs": [
    {
     "name": "stdout",
     "output_type": "stream",
     "text": [
      "1350\n",
      "1350\n"
     ]
    }
   ],
   "source": [
    "#Example\n",
    "student_scores = [150, 142, 185, 120, 171, 29, 134, 100, 89, 78, 102, 50]\n",
    "\n",
    "total_score = sum(student_scores)\n",
    "print(total_score)\n",
    "\n",
    "sum = 0\n",
    "for score in student_scores:\n",
    "    sum += score\n",
    "print(sum)"
   ]
  },
  {
   "cell_type": "markdown",
   "id": "9bdcf95e-0fde-4ff9-bf4c-8e40c143fd21",
   "metadata": {},
   "source": [
    "##### Highest Score:"
   ]
  },
  {
   "cell_type": "code",
   "execution_count": 19,
   "id": "7bf2b6b3-48c1-4092-bfea-a87f9ebc9f75",
   "metadata": {},
   "outputs": [
    {
     "name": "stdout",
     "output_type": "stream",
     "text": [
      "185\n"
     ]
    }
   ],
   "source": [
    "student_scores = [150, 142, 185, 120, 171, 29, 134, 100, 89, 78, 102, 50]\n",
    "\n",
    "max_score = 0\n",
    "for score in student_scores:\n",
    "    if score > max_score:\n",
    "        max_score = score\n",
    "print(max_score)"
   ]
  },
  {
   "cell_type": "markdown",
   "id": "b028d266-a1e3-401b-bc79-3896c1949baa",
   "metadata": {},
   "source": [
    "##### Range:\n",
    "```python\n",
    "for number in range(a,b,step):\n",
    "    print(number)\n"
   ]
  },
  {
   "cell_type": "markdown",
   "id": "c5280d4d-ddff-4e36-9530-bf241307c256",
   "metadata": {},
   "source": [
    "##### Add 1 to 100:"
   ]
  },
  {
   "cell_type": "code",
   "execution_count": 40,
   "id": "e33ed6aa-aa71-4ec2-a6e4-2c1a5c43dfe7",
   "metadata": {},
   "outputs": [
    {
     "name": "stdout",
     "output_type": "stream",
     "text": [
      "5050\n"
     ]
    }
   ],
   "source": [
    "sum = 0\n",
    "for x in range(1,101):\n",
    "    sum += x\n",
    "print(sum)"
   ]
  },
  {
   "cell_type": "markdown",
   "id": "8342b022-0659-4fef-bdc6-b8941b2589ea",
   "metadata": {},
   "source": [
    "##### FizzBuzz:"
   ]
  },
  {
   "cell_type": "code",
   "execution_count": 83,
   "id": "8d95a183-dffe-4989-92d4-54d5bfbc9c2b",
   "metadata": {},
   "outputs": [
    {
     "name": "stdout",
     "output_type": "stream",
     "text": [
      "1\n",
      "2\n",
      "Fizz\n",
      "4\n",
      "Buzz\n",
      "Fizz\n",
      "7\n",
      "8\n",
      "Fizz\n",
      "Buzz\n",
      "11\n",
      "Fizz\n",
      "13\n",
      "14\n",
      "FizzBuzz\n",
      "16\n",
      "17\n",
      "Fizz\n",
      "19\n",
      "Buzz\n",
      "Fizz\n",
      "22\n",
      "23\n",
      "Fizz\n",
      "Buzz\n",
      "26\n",
      "Fizz\n",
      "28\n",
      "29\n",
      "FizzBuzz\n",
      "31\n",
      "32\n",
      "Fizz\n",
      "34\n",
      "Buzz\n",
      "Fizz\n",
      "37\n",
      "38\n",
      "Fizz\n",
      "Buzz\n",
      "41\n",
      "Fizz\n",
      "43\n",
      "44\n",
      "FizzBuzz\n",
      "46\n",
      "47\n",
      "Fizz\n",
      "49\n",
      "Buzz\n",
      "Fizz\n",
      "52\n",
      "53\n",
      "Fizz\n",
      "Buzz\n",
      "56\n",
      "Fizz\n",
      "58\n",
      "59\n",
      "FizzBuzz\n",
      "61\n",
      "62\n",
      "Fizz\n",
      "64\n",
      "Buzz\n",
      "Fizz\n",
      "67\n",
      "68\n",
      "Fizz\n",
      "Buzz\n",
      "71\n",
      "Fizz\n",
      "73\n",
      "74\n",
      "FizzBuzz\n",
      "76\n",
      "77\n",
      "Fizz\n",
      "79\n",
      "Buzz\n",
      "Fizz\n",
      "82\n",
      "83\n",
      "Fizz\n",
      "Buzz\n",
      "86\n",
      "Fizz\n",
      "88\n",
      "89\n",
      "FizzBuzz\n",
      "91\n",
      "92\n",
      "Fizz\n",
      "94\n",
      "Buzz\n",
      "Fizz\n",
      "97\n",
      "98\n",
      "Fizz\n",
      "Buzz\n"
     ]
    }
   ],
   "source": [
    "for num in range(1,101):\n",
    "    if num%3==0 and num%5 ==0:\n",
    "        print('FizzBuzz')\n",
    "    elif num%3 == 0:\n",
    "        print('Fizz')\n",
    "    elif num%5 ==0:\n",
    "        print('Buzz')\n",
    "    else:\n",
    "        print(num)"
   ]
  },
  {
   "cell_type": "markdown",
   "id": "0af94ed5-b85b-4c1f-b0a0-9cf6304d3b2e",
   "metadata": {},
   "source": [
    "### Project 5 - Password Generator"
   ]
  },
  {
   "cell_type": "code",
   "execution_count": 1,
   "id": "f863434a-5809-4e81-8fb6-b4bf6b3ce3a9",
   "metadata": {},
   "outputs": [
    {
     "name": "stdout",
     "output_type": "stream",
     "text": [
      "Welcome to the PyPassword Generator!\n"
     ]
    },
    {
     "name": "stdout",
     "output_type": "stream",
     "text": [
      "How many letters would you like in your password?\n",
      " 2\n",
      "How many numbers would you like?\n",
      " 2\n",
      "How many symbols would you like?\n",
      " 2\n"
     ]
    },
    {
     "name": "stdout",
     "output_type": "stream",
     "text": [
      "Os35#)\n"
     ]
    }
   ],
   "source": [
    "letters = ['a', 'b', 'c', 'd', 'e', 'f', 'g', 'h', 'i', 'j', 'k', 'l', 'm', 'n', 'o', 'p', 'q', 'r', 's', 't', 'u', 'v', 'w', 'x', 'y', 'z', 'A', 'B', 'C', 'D', 'E', 'F', 'G', 'H', 'I', 'J', 'K', 'L', 'M', 'N', 'O', 'P', 'Q', 'R', 'S', 'T', 'U', 'V', 'W', 'X', 'Y', 'Z']\n",
    "numbers = ['0', '1', '2', '3', '4', '5', '6', '7', '8', '9']\n",
    "symbols = ['!', '#', '$', '%', '&', '(', ')', '*', '+']\n",
    "\n",
    "print(\"Welcome to the PyPassword Generator!\")\n",
    "nr_letters = int(input(\"How many letters would you like in your password?\\n\")) \n",
    "nr_numbers = int(input(f\"How many numbers would you like?\\n\"))\n",
    "nr_symbols = int(input(f\"How many symbols would you like?\\n\"))\n",
    "\n",
    "import random\n",
    "\n",
    "#Easy level --> fgdt$*92\n",
    "password = \"\"\n",
    "for letter in range(1 ,nr_letters+1):\n",
    "        password += random.choice(letters)\n",
    "\n",
    "for number in range(1 ,nr_numbers+1):\n",
    "        password += random.choice(numbers)\n",
    "\n",
    "for symbol in range(1 ,nr_symbols+1):\n",
    "        password += random.choice(symbols)\n",
    "\n",
    "print(password)"
   ]
  },
  {
   "cell_type": "code",
   "execution_count": 7,
   "id": "f23d3733-bfc3-45dd-86ad-7ffcbfd6036b",
   "metadata": {},
   "outputs": [
    {
     "name": "stdout",
     "output_type": "stream",
     "text": [
      "Welcome to the PyPassword Generator!\n",
      "['s', 'm', 'q', '6', '6', '4', '&', '%']\n",
      "['6', '6', 's', '&', 'q', '%', 'm', '4']\n",
      "66s&q%m4\n"
     ]
    }
   ],
   "source": [
    "letters = ['a', 'b', 'c', 'd', 'e', 'f', 'g', 'h', 'i', 'j', 'k', 'l', 'm', 'n', 'o', 'p', 'q', 'r', 's', 't', 'u', 'v', 'w', 'x', 'y', 'z', 'A', 'B', 'C', 'D', 'E', 'F', 'G', 'H', 'I', 'J', 'K', 'L', 'M', 'N', 'O', 'P', 'Q', 'R', 'S', 'T', 'U', 'V', 'W', 'X', 'Y', 'Z']\n",
    "numbers = ['0', '1', '2', '3', '4', '5', '6', '7', '8', '9']\n",
    "symbols = ['!', '#', '$', '%', '&', '(', ')', '*', '+']\n",
    "\n",
    "import random\n",
    "\n",
    "print(\"Welcome to the PyPassword Generator!\")\n",
    "nr_letters = random.randint(1,11)\n",
    "nr_numbers = random.randint(1,5)\n",
    "nr_symbols = random.randint(1,3)\n",
    "\n",
    "#Hard Level --> d$223Df3os\n",
    "password_list = []\n",
    "for letter in range(1 ,nr_letters+1):\n",
    "        password_list.append(random.choice(letters))\n",
    "\n",
    "for number in range(1 ,nr_numbers+1):\n",
    "        password_list.append(random.choice(numbers))\n",
    "\n",
    "for symbol in range(1 ,nr_symbols+1):\n",
    "        password_list.append(random.choice(symbols))\n",
    "\n",
    "print(password_list)\n",
    "random.shuffle(password_list)\n",
    "print(password_list)\n",
    "\n",
    "final_password = \"\"\n",
    "for char in password_list:\n",
    "    final_password += char\n",
    "print(final_password)"
   ]
  },
  {
   "cell_type": "code",
   "execution_count": null,
   "id": "324907a2-8099-438e-8b54-64fa0ad97e77",
   "metadata": {},
   "outputs": [],
   "source": []
  },
  {
   "cell_type": "markdown",
   "id": "ecf5d72f-66df-4a19-b34e-7141c21eb9e7",
   "metadata": {},
   "source": [
    "## DAY 6"
   ]
  },
  {
   "cell_type": "markdown",
   "id": "371216a6-4c9f-4529-9a47-b41789600497",
   "metadata": {},
   "source": [
    "### Contents\n",
    "1. Functions\n",
    "2. Indentation\n",
    "3. While Loops\n",
    "4. Infinite Loop\n"
   ]
  },
  {
   "cell_type": "markdown",
   "id": "fd7e9367-e62a-40f5-ae2d-105f8c754ee1",
   "metadata": {},
   "source": [
    "##### Functions:\n",
    "```python\n",
    "print(), len(), etc\n",
    "\n",
    "def my_function():\n",
    "    #Do this\n",
    "    #Then do this\n",
    "    #Finally do this"
   ]
  },
  {
   "cell_type": "markdown",
   "id": "d39ec6f7-2e40-41e0-98cd-ac8839ce8295",
   "metadata": {},
   "source": [
    "#### Link to pracatice Functions:\n",
    "https://reeborg.ca/reeborg.html?lang=en&mode=python&menu=worlds%2Fmenus%2Freeborg_intro_en.json&name=Alone&url=worlds%2Ftutorial_en%2Falone.json"
   ]
  },
  {
   "cell_type": "markdown",
   "id": "d5723185-6dbe-4b58-a5e5-8014e13f183b",
   "metadata": {},
   "source": [
    "##### While Loop:\n",
    "```python\n",
    "while something_is_true:\n",
    "    #Do something repeatedly"
   ]
  },
  {
   "cell_type": "markdown",
   "id": "202ca552-cec6-4c53-89fd-0b3953571234",
   "metadata": {},
   "source": [
    "##### Infinite Loop:\n",
    "```python\n",
    "while 5>3:\n",
    "    #Do this "
   ]
  },
  {
   "cell_type": "code",
   "execution_count": null,
   "id": "354c3a50-c8f0-4f89-a5dc-bdc169988ee5",
   "metadata": {},
   "outputs": [],
   "source": []
  },
  {
   "cell_type": "markdown",
   "id": "fb20e136-9613-4d0c-b72f-de1637f1a6f5",
   "metadata": {},
   "source": [
    "## DAY 7"
   ]
  },
  {
   "cell_type": "markdown",
   "id": "2b0a2de9-fc4e-4e1a-820d-46accf06c142",
   "metadata": {
    "jp-MarkdownHeadingCollapsed": true
   },
   "source": [
    "### Contents\n",
    "1. Project 7 - Hangman\n"
   ]
  },
  {
   "cell_type": "markdown",
   "id": "5de925d5-0655-4255-add4-3e3089ef9be6",
   "metadata": {},
   "source": [
    "### Project 7 - Hangman"
   ]
  },
  {
   "cell_type": "code",
   "execution_count": 23,
   "id": "6215550f-1850-4349-b818-424d39ba7fff",
   "metadata": {},
   "outputs": [
    {
     "name": "stdout",
     "output_type": "stream",
     "text": [
      "chosen word is: aardvark\n"
     ]
    },
    {
     "name": "stdout",
     "output_type": "stream",
     "text": [
      "Guess a letter:  p\n"
     ]
    },
    {
     "name": "stdout",
     "output_type": "stream",
     "text": [
      "________\n",
      "Your guess is wrong, you lose a life\n"
     ]
    },
    {
     "name": "stdout",
     "output_type": "stream",
     "text": [
      "Guess a letter:  q\n"
     ]
    },
    {
     "name": "stdout",
     "output_type": "stream",
     "text": [
      "________\n",
      "Your guess is wrong, you lose a life\n"
     ]
    },
    {
     "name": "stdout",
     "output_type": "stream",
     "text": [
      "Guess a letter:  r\n"
     ]
    },
    {
     "name": "stdout",
     "output_type": "stream",
     "text": [
      "__r___r_\n"
     ]
    },
    {
     "name": "stdout",
     "output_type": "stream",
     "text": [
      "Guess a letter:  s\n"
     ]
    },
    {
     "name": "stdout",
     "output_type": "stream",
     "text": [
      "__r___r_\n",
      "Your guess is wrong, you lose a life\n"
     ]
    },
    {
     "name": "stdout",
     "output_type": "stream",
     "text": [
      "Guess a letter:  t\n"
     ]
    },
    {
     "name": "stdout",
     "output_type": "stream",
     "text": [
      "__r___r_\n",
      "Your guess is wrong, you lose a life\n"
     ]
    },
    {
     "name": "stdout",
     "output_type": "stream",
     "text": [
      "Guess a letter:  u\n"
     ]
    },
    {
     "name": "stdout",
     "output_type": "stream",
     "text": [
      "__r___r_\n",
      "Your guess is wrong, you lose a life\n"
     ]
    },
    {
     "name": "stdout",
     "output_type": "stream",
     "text": [
      "Guess a letter:  v\n"
     ]
    },
    {
     "name": "stdout",
     "output_type": "stream",
     "text": [
      "__r_v_r_\n"
     ]
    },
    {
     "name": "stdout",
     "output_type": "stream",
     "text": [
      "Guess a letter:  w\n"
     ]
    },
    {
     "name": "stdout",
     "output_type": "stream",
     "text": [
      "__r_v_r_\n",
      "Your guess is wrong, you lose a life\n",
      "You Loose\n"
     ]
    }
   ],
   "source": [
    "word_list = ['aardvark','baboon','camel']\n",
    "\n",
    "#Randomly choose a word from the word_list.\n",
    "import random\n",
    "\n",
    "#Create variable caled lives and keep track of the number of lives left\n",
    "lives = 6\n",
    "chosen_word = random.choice(word_list)\n",
    "print(f'chosen word is: {chosen_word}')\n",
    "\n",
    "#Ask the user to guess a letter and assign answer to variable guess. Make guess lowercase.\n",
    "#Use while loop to let the user huess again.\n",
    "game_over = False\n",
    "correct_guess = []\n",
    "\n",
    "while not game_over:\n",
    "    guess = str(input('Guess a letter: ')).lower()\n",
    "\n",
    "    #Create a 'display' that puts the guess letter in the right position\n",
    "    #Update the for loop so that you keep the previous correct guess \n",
    "    if guess in correct_guess:\n",
    "        print(f'You have already guessed {guess}')\n",
    "        \n",
    "    display = \"\"\n",
    "    \n",
    "    for letter in chosen_word:\n",
    "        if letter == guess:\n",
    "            display += letter\n",
    "            correct_guess.append(letter)\n",
    "        elif letter in correct_guess:\n",
    "            display += letter\n",
    "        else:\n",
    "            display += '_'\n",
    "\n",
    "    print(display)\n",
    "\n",
    "    if guess not in chosen_word:\n",
    "        lives -= 1\n",
    "        print('Your guess is wrong, you lose a life')\n",
    "        if lives == 0:\n",
    "            game_over = True\n",
    "            print('You Loose')\n",
    "    \n",
    "    if \"_\" not in display:\n",
    "        game_over = True\n",
    "        print(\"You win!\")\n",
    "    \n",
    "#Check if the letter guessed by the user is right or wrong.\n",
    "# for letter in chosen_word:\n",
    "#     if letter == guess:\n",
    "#         print('Right')\n",
    "#     else:\n",
    "#         print('Wrong')\n",
    "\n",
    "#Create an empty string called placeholder.\n",
    "#placeholder = \"\"\n",
    "\n",
    "#For each letter in the chosen_word add a _ to placeholder.\n",
    "#for letter in range(0, len(chosen_word)):\n",
    "#    placeholder += '_'"
   ]
  },
  {
   "cell_type": "markdown",
   "id": "e814b4b0-f2f7-4ea9-bc35-43d3f5fd8f6b",
   "metadata": {},
   "source": []
  },
  {
   "cell_type": "markdown",
   "id": "763003ba-797e-4ac6-b5b2-0343ff03fa42",
   "metadata": {},
   "source": [
    "## DAY 8"
   ]
  },
  {
   "cell_type": "markdown",
   "id": "3ea1a783-147e-4686-9a5e-492b2fdab298",
   "metadata": {},
   "source": [
    "### Contents\n",
    "1. Functions with input\n",
    "2. Positional vs Keyword Arguments\n",
    "3. Project 8 - Caesar Cipher"
   ]
  },
  {
   "cell_type": "markdown",
   "id": "2718fcfd-025c-478e-9945-3faf50cc5710",
   "metadata": {},
   "source": [
    "##### Function with input:"
   ]
  },
  {
   "cell_type": "markdown",
   "id": "6c453dc3-1a91-4a58-88c0-e46cfb6a6629",
   "metadata": {},
   "source": [
    "```python\n",
    "def my_function(something):\n",
    "    #Do this with something\n",
    "    #The do this\n",
    "    #Finally do this"
   ]
  },
  {
   "cell_type": "code",
   "execution_count": 6,
   "id": "6362719b-1a45-4479-9cb5-bba180d85631",
   "metadata": {},
   "outputs": [
    {
     "name": "stdout",
     "output_type": "stream",
     "text": [
      "Hello\n",
      "How are you?\n",
      "Isn't the weather nice?\n"
     ]
    }
   ],
   "source": [
    "def greet():\n",
    "    print('Hello')\n",
    "    print('How are you?')\n",
    "    print(\"Isn't the weather nice?\")\n",
    "\n",
    "greet()"
   ]
  },
  {
   "cell_type": "code",
   "execution_count": 17,
   "id": "10155ff8-8be7-473f-b9f1-f7c261dc7aef",
   "metadata": {},
   "outputs": [
    {
     "name": "stdout",
     "output_type": "stream",
     "text": [
      "Hello Anushri\n",
      "How are you doing Anushri\n",
      "Isn't the weather nice?\n"
     ]
    }
   ],
   "source": [
    "def greet(name):\n",
    "    print(f'Hello {name}')\n",
    "    print(f'How are you doing {name}')\n",
    "    print(f\"Isn't the weather nice?\")\n",
    "\n",
    "greet('Anushri')"
   ]
  },
  {
   "cell_type": "code",
   "execution_count": 29,
   "id": "cb197016-1e3c-44d1-817c-bc2edb5b2a85",
   "metadata": {},
   "outputs": [
    {
     "name": "stdout",
     "output_type": "stream",
     "text": [
      "You have 1768 weeks left.\n"
     ]
    }
   ],
   "source": [
    "#How many weeks you have to live\n",
    "def life_in_weeks(age):\n",
    "    max_age = 90\n",
    "    x = (max_age - age)*52\n",
    "    print(f'You have {x} weeks left.')\n",
    "\n",
    "life_in_weeks(56)"
   ]
  },
  {
   "cell_type": "markdown",
   "id": "42d8a074-6155-4634-82e0-55ea6ae743d1",
   "metadata": {},
   "source": [
    "##### Positional Arguments:"
   ]
  },
  {
   "cell_type": "code",
   "execution_count": 52,
   "id": "a1583b34-0079-4d71-9a05-61341b13952b",
   "metadata": {},
   "outputs": [
    {
     "name": "stdout",
     "output_type": "stream",
     "text": [
      "Hello Krithi\n",
      "What is it like in Ireland?\n"
     ]
    }
   ],
   "source": [
    "def greet_with(name,location):\n",
    "    print(f\"Hello {name}\")\n",
    "    print(f\"What is it like in {location}?\")    \n",
    "\n",
    "greet_with('Krithi','Ireland')"
   ]
  },
  {
   "cell_type": "markdown",
   "id": "7b4bcb45-3d7b-4d97-92b7-f62dbe2c52c0",
   "metadata": {},
   "source": [
    "##### Keyword Arguments:"
   ]
  },
  {
   "cell_type": "markdown",
   "id": "20195126-8f7f-46d4-98e8-5e3c0e881049",
   "metadata": {},
   "source": [
    "```python\n",
    "def my_function(a,b,c):\n",
    "    #Do this with a\n",
    "    #The do this with b\n",
    "    #Finally do this with c"
   ]
  },
  {
   "cell_type": "code",
   "execution_count": 44,
   "id": "0619d2bb-4215-4895-a679-336d072c53e1",
   "metadata": {},
   "outputs": [
    {
     "name": "stdout",
     "output_type": "stream",
     "text": [
      "Hello Krithi\n",
      "What is it like in Ireland?\n"
     ]
    }
   ],
   "source": [
    "def greet_with(name,location):\n",
    "    print(f\"Hello {name}\")\n",
    "    print(f\"What is it like in {location}?\")    \n",
    "\n",
    "greet_with(location ='Ireland',name ='Krithi')"
   ]
  },
  {
   "cell_type": "markdown",
   "id": "bd20e71e-8784-46e8-a9c0-17f4471feb51",
   "metadata": {},
   "source": [
    "##### Love Calculator:"
   ]
  },
  {
   "cell_type": "code",
   "execution_count": 136,
   "id": "0db7ac9a-89de-4d29-bba4-1cb245ebfc47",
   "metadata": {},
   "outputs": [
    {
     "name": "stdout",
     "output_type": "stream",
     "text": [
      "53\n"
     ]
    }
   ],
   "source": [
    "def calculate_love_score(name1,name2):\n",
    "    string = name1 + name2\n",
    "    string = string.lower()\n",
    "    word1 = ['t','r','u','e']\n",
    "    word2 = ['l','o','v','e']\n",
    "    count1 = 0\n",
    "    count2 = 0\n",
    "    for letter in string:\n",
    "        if letter in word1:\n",
    "            count1 += 1\n",
    "        if letter in word2:\n",
    "            count2 += 1\n",
    "    print(str(count1)+str(count2))\n",
    "\n",
    "calculate_love_score(\"Angela Yu\",\"Jack Bauer\")"
   ]
  },
  {
   "cell_type": "markdown",
   "id": "f6c7528a-7711-497b-b1af-c2e5c5f1be74",
   "metadata": {},
   "source": [
    "### Project 8 - Caesar Cipher"
   ]
  },
  {
   "cell_type": "code",
   "execution_count": 29,
   "id": "eed1cccf-cfe0-4323-bd91-c3f5ec2e0b0b",
   "metadata": {},
   "outputs": [
    {
     "name": "stdout",
     "output_type": "stream",
     "text": [
      "Type 'encode' to encrypt, type 'decode' to decrypt:\n",
      " decode\n",
      "Type your message:\n",
      " bye\n",
      "Type the shift number:\n",
      " 1\n"
     ]
    },
    {
     "name": "stdout",
     "output_type": "stream",
     "text": [
      "Here is the decoded result: axd\n"
     ]
    }
   ],
   "source": [
    "#Part-1\n",
    "alphabet = ['a', 'b', 'c', 'd', 'e', 'f', 'g', 'h', 'i', 'j', 'k', 'l', 'm', 'n', 'o', 'p', 'q', 'r', 's', 't', 'u', 'v', 'w', 'x', 'y', 'z']\n",
    "\n",
    "direction = input(\"Type 'encode' to encrypt, type 'decode' to decrypt:\\n\").lower()\n",
    "text = input(\"Type your message:\\n\").lower()\n",
    "shift = int(input(\"Type the shift number:\\n\"))\n",
    "\n",
    "def encrypt(original_text,shift_amount):\n",
    "    encrypted_text = \"\"\n",
    "    for letter in original_text:\n",
    "        current_index = alphabet.index(letter) + shift_amount\n",
    "\n",
    "        current_index %= len(alphabet) #0-25\n",
    "        encrypted_text += alphabet[current_index]\n",
    "    print(f'Here is the encoded result: {encrypted_text}')\n",
    "\n",
    "def decrypt(original_text,shift_amount):\n",
    "    decrypted_text = \"\"\n",
    "    for letter in original_text:\n",
    "        current_index = alphabet.index(letter) - shift_amount\n",
    "\n",
    "        current_index %= len(alphabet) \n",
    "        decrypted_text += alphabet[current_index]\n",
    "    print(f'Here is the decoded result: {decrypted_text}')\n",
    "\n",
    "if direction == 'encode':\n",
    "    encrypt(text,shift)\n",
    "elif direction == 'decode':\n",
    "    decrypt(text,shift)"
   ]
  },
  {
   "cell_type": "code",
   "execution_count": 66,
   "id": "445c4cac-b595-4515-92e6-52ffe8bb5c49",
   "metadata": {},
   "outputs": [
    {
     "name": "stdout",
     "output_type": "stream",
     "text": [
      "Type 'encode' to encrypt, type 'decode' to decrypt:\n",
      " encode\n",
      "Type your message:\n",
      " ab\n",
      "Type the shift number:\n",
      " 2\n"
     ]
    },
    {
     "name": "stdout",
     "output_type": "stream",
     "text": [
      "Here is the encoded result: cd\n"
     ]
    },
    {
     "name": "stdout",
     "output_type": "stream",
     "text": [
      "Type 'yes' if you want to go again. Otherwise, type 'no'.\n",
      " yes\n",
      "Type 'encode' to encrypt, type 'decode' to decrypt:\n",
      " decode\n",
      "Type your message:\n",
      " cd\n",
      "Type the shift number:\n",
      " 2\n"
     ]
    },
    {
     "name": "stdout",
     "output_type": "stream",
     "text": [
      "Here is the decoded result: ab\n"
     ]
    },
    {
     "name": "stdout",
     "output_type": "stream",
     "text": [
      "Type 'yes' if you want to go again. Otherwise, type 'no'.\n",
      " no\n"
     ]
    },
    {
     "name": "stdout",
     "output_type": "stream",
     "text": [
      "Goodbye!\n"
     ]
    }
   ],
   "source": [
    "#Part 2 & 3 (Used chatgpt to debug)\n",
    "alphabet = ['a', 'b', 'c', 'd', 'e', 'f', 'g', 'h', 'i', 'j', 'k', 'l', 'm', 'n', 'o', 'p', 'q', 'r', 's', 't', 'u', 'v', 'w', 'x', 'y', 'z']\n",
    "\n",
    "def caesar(original_text, shift_amount, encode_or_decode):\n",
    "    output_text = \"\"\n",
    "    \n",
    "    shift_amount %= len(alphabet)  # Ensure shift is within 0-25 range\n",
    "    if encode_or_decode == 'decode':\n",
    "        shift_amount *= -1  \n",
    "\n",
    "    for letter in original_text:\n",
    "        if letter in alphabet:\n",
    "            new_index = (alphabet.index(letter) + shift_amount) % len(alphabet)\n",
    "            output_text += alphabet[new_index]\n",
    "        else:\n",
    "            output_text += letter  # Keep non-alphabetic characters unchanged\n",
    "    \n",
    "    print(f'Here is the {encode_or_decode}d result: {output_text}')\n",
    "\n",
    "should_continue = True\n",
    "\n",
    "while should_continue:\n",
    "    direction = input(\"Type 'encode' to encrypt, type 'decode' to decrypt:\\n\").lower()\n",
    "    text = input(\"Type your message:\\n\").lower()\n",
    "    shift = int(input(\"Type the shift number:\\n\"))\n",
    "\n",
    "    caesar(text, shift, direction)\n",
    "\n",
    "    restart = input(\"Type 'yes' if you want to go again. Otherwise, type 'no'.\\n\").lower()\n",
    "    if restart == 'no':\n",
    "        should_continue = False\n",
    "        print('Goodbye!')"
   ]
  },
  {
   "cell_type": "code",
   "execution_count": null,
   "id": "386d57ee-7f23-4d72-8a3d-4abc768b089f",
   "metadata": {},
   "outputs": [],
   "source": []
  },
  {
   "cell_type": "markdown",
   "id": "a5bae804-8fdb-4cec-a3bf-390910a3e4e8",
   "metadata": {},
   "source": [
    "## DAY 9"
   ]
  },
  {
   "cell_type": "markdown",
   "id": "9bf520cd-b868-4f7c-94de-3a89616a6708",
   "metadata": {},
   "source": [
    "### Contents\n",
    "1. Dictionary\n",
    "2. Nesting List and Dictionary"
   ]
  },
  {
   "cell_type": "markdown",
   "id": "6fad8962-798a-47bb-8172-2cfe59eb7920",
   "metadata": {},
   "source": [
    "##### Dictionary:\n",
    "1. Key, Value pair\n",
    "2. Enclosed with --> {}\n",
    "3. Are identified by the Key."
   ]
  },
  {
   "cell_type": "markdown",
   "id": "18f42588-5aaf-4831-aa1d-a2c626c43779",
   "metadata": {},
   "source": [
    "``` python\n",
    "--------------------------------------------------------------\n",
    "|    Key             |  Value                                |\n",
    "--------------------------------------------------------------\n",
    "|    Bug             | An error in a program that prevents   |\n",
    "|                    | the program from running as expected. |\n",
    "--------------------------------------------------------------\n",
    "|    Function        | An piece of code that you can easily  |\n",
    "|                    | call over and over again.             |\n",
    "--------------------------------------------------------------\n",
    "|    Loop            | The action of doing something over    |\n",
    "|                    | and over again.                       |\n",
    "--------------------------------------------------------------\n",
    "```"
   ]
  },
  {
   "cell_type": "code",
   "execution_count": 11,
   "id": "14febdbd-a2fc-4e54-b34a-49792003b5e7",
   "metadata": {},
   "outputs": [
    {
     "name": "stdout",
     "output_type": "stream",
     "text": [
      "An error in a program that prevents the program from running as expected.\n",
      "{'Bug': 'An error in a program that prevents the program from running as expected.', 'Function': 'An piece of code that you can easily call over and over again.', 'Loop': 'The action of doing something over and over again.'}\n",
      "{}\n",
      "{'Bug': 'A moth is in your computer.'}\n",
      "Bug\n",
      "A moth is in your computer.\n"
     ]
    }
   ],
   "source": [
    "#Example\n",
    "program_dictionary = {\n",
    "    \"Bug\" : \"An error in a program that prevents the program from running as expected.\",\n",
    "    \"Function\" : \"An piece of code that you can easily call over and over again.\"\n",
    "}\n",
    "\n",
    "#Indexing\n",
    "print(program_dictionary[\"Bug\"])\n",
    "\n",
    "#Add new key-value pair\n",
    "program_dictionary[\"Loop\"] = \"The action of doing something over and over again.\"\n",
    "print(program_dictionary)\n",
    "\n",
    "empty_dictionary = {}\n",
    "\n",
    "#Wipe an existing dictionary\n",
    "program_dictionary = {}\n",
    "print(program_dictionary)\n",
    "\n",
    "#Edit an item in dictionary\n",
    "program_dictionary[\"Bug\"] = \"A moth is in your computer.\"\n",
    "print(program_dictionary)\n",
    "\n",
    "#Loop through a dictionary\n",
    "for key in program_dictionary: \n",
    "    print(key)                    #Provides only the Key\n",
    "    print(program_dictionary[key])  #Provides the value"
   ]
  },
  {
   "cell_type": "markdown",
   "id": "4d65aeaa-3163-4db6-81de-b73de471535b",
   "metadata": {},
   "source": [
    "##### Grading Program:\n",
    "Write a program that converts their scores to grades.\n",
    "\n",
    "* Scores 91 - 100: Grade = \"Outstanding\" \n",
    "* Scores 81 - 90: Grade = \"Exceeds Expectations\" \n",
    "* Scores 71 - 80: Grade = \"Acceptable\" \n",
    "* Scores 70 or lower: Grade = \"Fail\" "
   ]
  },
  {
   "cell_type": "code",
   "execution_count": 9,
   "id": "15065ccd-d206-4765-ba72-b6504de5e357",
   "metadata": {},
   "outputs": [
    {
     "name": "stdout",
     "output_type": "stream",
     "text": [
      "{'Harry': 'Exceeds Expectations', 'Ron': 'Acceptable', 'Hermione': 'Outstanding', 'Draco': 'Acceptable', 'Neville': 'Fail'}\n"
     ]
    }
   ],
   "source": [
    "student_scores = {\n",
    "    'Harry': 88,\n",
    "    'Ron': 78,\n",
    "    'Hermione': 95,\n",
    "    'Draco': 75,\n",
    "    'Neville': 60\n",
    "}\n",
    "\n",
    "student_grades = {}\n",
    "\n",
    "for key in student_scores:\n",
    "    if 91 <= student_scores[key] <= 100: \n",
    "        student_grades[key] = \"Outstanding\"\n",
    "    elif 81 <= student_scores[key] <= 90:\n",
    "        student_grades[key] = \"Exceeds Expectations\"\n",
    "    elif 71 <= student_scores[key] <= 80:\n",
    "        student_grades[key] = \"Acceptable\"\n",
    "    else:\n",
    "        student_grades[key] = \"Fail\"\n",
    "\n",
    "print(student_grades)"
   ]
  },
  {
   "cell_type": "markdown",
   "id": "8ddf217b-b2ce-47b8-b92f-9f6fad40e2a7",
   "metadata": {},
   "source": [
    "##### Nested Lists and Dictionaries:"
   ]
  },
  {
   "cell_type": "code",
   "execution_count": 34,
   "id": "c14ddd35-0410-4635-9c9b-496d53725bc2",
   "metadata": {},
   "outputs": [
    {
     "name": "stdout",
     "output_type": "stream",
     "text": [
      "['Paris', 'Lille', 'Dijon']\n",
      "Lille\n",
      "-----------------------------------------\n",
      "D\n",
      "-----------------------------------------\n",
      "{'cities_visited': ['Berlin', 'Hamburg', 'Stuttgart'], 'total_visits': 5}\n",
      "Stuttgart\n"
     ]
    }
   ],
   "source": [
    "#Example\n",
    "travel_log = {\n",
    "    \"France\" : ['Paris','Lille','Dijon'],\n",
    "    \"Germany\" : ['Stuttgart','Berlin']\n",
    "}\n",
    "\n",
    "#Print Lille using indexing\n",
    "print(travel_log[\"France\"])\n",
    "print(travel_log[\"France\"][1])\n",
    "print('-----------------------------------------')\n",
    "\n",
    "nested_list = ['A','B',['C','D']]\n",
    "\n",
    "#Print 'D'\n",
    "print(nested_list[2][1])\n",
    "print('-----------------------------------------')\n",
    "\n",
    "#Print 'Stuttgart'\n",
    "travel_log = {\n",
    "    \"France\": {\n",
    "        \"cities_visited\":['Paris','Lille','Dijon'],\n",
    "        \"total_visits\":12\n",
    "    },\n",
    "    \"Germany\": {\n",
    "        \"cities_visited\":['Berlin','Hamburg','Stuttgart'],\n",
    "        \"total_visits\":5\n",
    "    }\n",
    "}\n",
    "\n",
    "print(travel_log['Germany'])\n",
    "print(travel_log['Germany']['cities_visited'][2])"
   ]
  },
  {
   "cell_type": "markdown",
   "id": "3eb2a0b8-bb23-42c0-afca-91d843e4250d",
   "metadata": {},
   "source": [
    "### Project 9 - The Secreat Auction Program"
   ]
  },
  {
   "cell_type": "code",
   "execution_count": 27,
   "id": "a146d465-9e92-41d4-babc-7fab6c13d7ba",
   "metadata": {},
   "outputs": [
    {
     "name": "stdout",
     "output_type": "stream",
     "text": [
      "What is your name? \n",
      " Navya\n",
      "What is your bid? \n",
      " 30\n",
      "Are there any other bidders? Type 'yes' or 'no'. \n",
      " yes\n",
      "What is your name? \n",
      " Kavya\n",
      "What is your bid? \n",
      " 20\n",
      "Are there any other bidders? Type 'yes' or 'no'. \n",
      " no\n"
     ]
    },
    {
     "name": "stdout",
     "output_type": "stream",
     "text": [
      "The winner is Navya with a bid of $30.0.\n"
     ]
    }
   ],
   "source": [
    "name = input(\"What is your name? \\n\")\n",
    "price = float(input(\"What is your bid? \\n\"))\n",
    "\n",
    "bids =  {}\n",
    "bids.update({name:price})\n",
    "\n",
    "should_continue = input(\"Are there any other bidders? Type 'yes' or 'no'. \\n\")\n",
    "\n",
    "def find_highest_bid(bidding_dict):\n",
    "    winner = \"\"\n",
    "    highest_bid = 0\n",
    "    for bidder in bidding_dict:\n",
    "        bid_amount = bidding_dict[bidder]\n",
    "        if bid_amount > highest_bid:\n",
    "            highest_bid += bid_amount\n",
    "            winner = bidder\n",
    "            \n",
    "    print(f\"The winner is {winner} with a bid of ${highest_bid}.\")\n",
    "\n",
    "continue_bidding = True\n",
    "while continue_bidding:\n",
    "    name = input(\"What is your name? \\n\")\n",
    "    price = float(input(\"What is your bid? \\n\"))\n",
    "    bids.update({name:price})\n",
    "\n",
    "    should_continue = input(\"Are there any other bidders? Type 'yes' or 'no'. \\n\")\n",
    "    if should_continue == 'no':\n",
    "        continue_bidding = False\n",
    "        find_highest_bid(bids)\n",
    "\n",
    "    elif should_continue == 'yes':\n",
    "        print(\"\\n\"*20)\n",
    "        \n",
    "    # if should_continue == \"yes\":\n",
    "    #     bids.update({name:price})\n",
    "    #     print(\"\\n\"*20)\n",
    "    \n",
    "    # elif should_continue == \"no\":\n",
    "    #     continue_bidding = False\n",
    "    #     for key in bids:\n",
    "    #         print(max(bids, key=fruits.get))"
   ]
  },
  {
   "cell_type": "code",
   "execution_count": null,
   "id": "ec47736a-f4a7-4098-a886-72306873099a",
   "metadata": {},
   "outputs": [],
   "source": []
  }
 ],
 "metadata": {
  "kernelspec": {
   "display_name": "Python 3 (ipykernel)",
   "language": "python",
   "name": "python3"
  },
  "language_info": {
   "codemirror_mode": {
    "name": "ipython",
    "version": 3
   },
   "file_extension": ".py",
   "mimetype": "text/x-python",
   "name": "python",
   "nbconvert_exporter": "python",
   "pygments_lexer": "ipython3",
   "version": "3.12.4"
  }
 },
 "nbformat": 4,
 "nbformat_minor": 5
}
